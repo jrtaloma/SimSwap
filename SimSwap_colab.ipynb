{
  "nbformat": 4,
  "nbformat_minor": 0,
  "metadata": {
    "colab": {
      "name": "SimSwap colab.ipynb",
      "provenance": [],
      "collapsed_sections": []
    },
    "kernelspec": {
      "name": "python3",
      "display_name": "Python 3"
    },
    "language_info": {
      "name": "python"
    }
  },
  "cells": [
    {
      "cell_type": "code",
      "metadata": {
        "colab": {
          "base_uri": "https://localhost:8080/"
        },
        "id": "rmX036-L3vBF",
        "outputId": "f8947861-8c21-495d-e96e-7750dd5c1f0b"
      },
      "source": [
        "from google.colab import drive\n",
        "drive.mount('/content/drive')"
      ],
      "execution_count": null,
      "outputs": [
        {
          "output_type": "stream",
          "name": "stdout",
          "text": [
            "Mounted at /content/drive\n"
          ]
        }
      ]
    },
    {
      "cell_type": "markdown",
      "metadata": {
        "id": "7_gtFoV8BuRx"
      },
      "source": [
        "This is a simple example of SimSwap on swapping one single face within one image or one video. You can change the codes for inference based on other scripts for image or single face swapping.\n",
        "\n",
        "Code path: https://github.com/neuralchen/SimSwap\n",
        "\n",
        "Paper path: https://arxiv.org/pdf/2106.06340v1.pdf or https://dl.acm.org/doi/10.1145/3394171.3413630"
      ]
    },
    {
      "cell_type": "markdown",
      "metadata": {
        "id": "0Qzzx2UpDkqw"
      },
      "source": [
        "## Installation\n",
        "\n",
        "All file changes made by this notebook are temporary. \n",
        "You can try to mount your own google drive to store files if you want.\n"
      ]
    },
    {
      "cell_type": "code",
      "metadata": {
        "id": "VA_4CeWZCHLP"
      },
      "source": [
        "%cd /content\n",
        "!git clone https://github.com/jrtaloma/SimSwap\n",
        "!cd SimSwap && git pull"
      ],
      "execution_count": null,
      "outputs": []
    },
    {
      "cell_type": "code",
      "metadata": {
        "id": "2ICwDZeRvYUu"
      },
      "source": [
        "%cd /content\n",
        "!git clone https://github.com/yangxy/GPEN.git\n",
        "\n",
        "# Remove the example input\n",
        "%rm -rf /content/GPEN/examples\n",
        "%mkdir -p /content/GPEN/examples/imgs"
      ],
      "execution_count": null,
      "outputs": []
    },
    {
      "cell_type": "code",
      "metadata": {
        "id": "Y5K4au_UCkKn"
      },
      "source": [
        "!pip install insightface==0.2.1 onnxruntime moviepy\n",
        "!pip install googledrivedownloader\n",
        "!pip install imageio==2.4.1\n",
        "!pip install ninja"
      ],
      "execution_count": null,
      "outputs": []
    },
    {
      "cell_type": "code",
      "metadata": {
        "id": "gQ7ZoIbLFCye"
      },
      "source": [
        "import os\n",
        "os.chdir('/content/drive/MyDrive/Colab Notebooks/FaceSwap/SimSwap')"
      ],
      "execution_count": null,
      "outputs": []
    },
    {
      "cell_type": "code",
      "metadata": {
        "id": "gLti1J0pEFjJ"
      },
      "source": [
        "from google_drive_downloader import GoogleDriveDownloader\n",
        "\n",
        "### it seems that google drive link may not be permenant, you can find this ID from our open url.\n",
        "# GoogleDriveDownloader.download_file_from_google_drive(file_id='1TLNdIufzwesDbyr_nVTR7Zrx9oRHLM_N',\n",
        "#                                     dest_path='./arcface_model/arcface_checkpoint.tar')\n",
        "# GoogleDriveDownloader.download_file_from_google_drive(file_id='1PXkRiBUYbu1xWpQyDEJvGKeqqUFthJcI',\n",
        "#                                     dest_path='./checkpoints.zip')\n",
        "\n",
        "!wget -P ./arcface_model https://github.com/neuralchen/SimSwap/releases/download/1.0/arcface_checkpoint.tar\n",
        "!wget https://github.com/neuralchen/SimSwap/releases/download/1.0/checkpoints.zip\n",
        "!unzip ./checkpoints.zip  -d ./checkpoints\n",
        "!wget -P ./parsing_model/checkpoint https://github.com/neuralchen/SimSwap/releases/download/1.0/79999_iter.pth"
      ],
      "execution_count": null,
      "outputs": []
    },
    {
      "cell_type": "code",
      "metadata": {
        "id": "aSRnK5V4HI-k"
      },
      "source": [
        "## You can upload filed manually\n",
        "# from google.colab import drive\n",
        "# drive.mount('/content/gdrive')\n",
        "\n",
        "### Now onedrive file can be downloaded in Colab directly!\n",
        "### If the link blow is not permanent, you can just download it from the \n",
        "### open url(can be found at [our repo]/doc/guidance/preparation.md) and copy the assigned download link here.\n",
        "### many thanks to woctezuma for this very useful help\n",
        "!wget --no-check-certificate \"https://sh23tw.dm.files.1drv.com/y4mmGiIkNVigkSwOKDcV3nwMJulRGhbtHdkheehR5TArc52UjudUYNXAEvKCii2O5LAmzGCGK6IfleocxuDeoKxDZkNzDRSt4ZUlEt8GlSOpCXAFEkBwaZimtWGDRbpIGpb_pz9Nq5jATBQpezBS6G_UtspWTkgrXHHxhviV2nWy8APPx134zOZrUIbkSF6xnsqzs3uZ_SEX_m9Rey0ykpx9w\" -O antelope.zip\n",
        "!unzip ./antelope.zip -d ./insightface_func/models/\n"
      ],
      "execution_count": null,
      "outputs": []
    },
    {
      "cell_type": "markdown",
      "metadata": {
        "id": "F2fdG-snpe9G"
      },
      "source": [
        "# Inference"
      ]
    },
    {
      "cell_type": "code",
      "metadata": {
        "id": "5c-kjSsT5Pul"
      },
      "source": [
        "import os\n",
        "os.chdir('/content/drive/MyDrive/Colab Notebooks/FaceSwap/SimSwap')"
      ],
      "execution_count": null,
      "outputs": []
    },
    {
      "cell_type": "code",
      "metadata": {
        "id": "PfSsND36EMvn",
        "colab": {
          "base_uri": "https://localhost:8080/"
        },
        "outputId": "46303ac9-246d-4714-f7fb-7d57b46d86a9"
      },
      "source": [
        "import cv2\n",
        "import torch\n",
        "import fractions\n",
        "import numpy as np\n",
        "from PIL import Image\n",
        "import torch.nn.functional as F\n",
        "from torchvision import transforms\n",
        "from models.models import create_model\n",
        "from options.test_options import TestOptions\n",
        "from insightface_func.face_detect_crop_multi import Face_detect_crop\n",
        "from util.videoswap import video_swap\n",
        "from util.add_watermark import watermark_image"
      ],
      "execution_count": null,
      "outputs": [
        {
          "output_type": "stream",
          "name": "stdout",
          "text": [
            "Imageio: 'ffmpeg-linux64-v3.3.1' was not found on your computer; downloading it now.\n",
            "Try 1. Download from https://github.com/imageio/imageio-binaries/raw/master/ffmpeg/ffmpeg-linux64-v3.3.1 (43.8 MB)\n",
            "Downloading: 8192/45929032 bytes (0.0%)\b\b\b\b\b\b\b\b\b\b\b\b\b\b\b\b\b\b\b\b\b\b\b\b\b\b2383872/45929032 bytes (5.2%)\b\b\b\b\b\b\b\b\b\b\b\b\b\b\b\b\b\b\b\b\b\b\b\b\b\b\b\b\b5586944/45929032 bytes (12.2%)\b\b\b\b\b\b\b\b\b\b\b\b\b\b\b\b\b\b\b\b\b\b\b\b\b\b\b\b\b\b8806400/45929032 bytes (19.2%)\b\b\b\b\b\b\b\b\b\b\b\b\b\b\b\b\b\b\b\b\b\b\b\b\b\b\b\b\b\b11714560/45929032 bytes (25.5%)\b\b\b\b\b\b\b\b\b\b\b\b\b\b\b\b\b\b\b\b\b\b\b\b\b\b\b\b\b\b\b14860288/45929032 bytes (32.4%)\b\b\b\b\b\b\b\b\b\b\b\b\b\b\b\b\b\b\b\b\b\b\b\b\b\b\b\b\b\b\b17907712/45929032 bytes (39.0%)\b\b\b\b\b\b\b\b\b\b\b\b\b\b\b\b\b\b\b\b\b\b\b\b\b\b\b\b\b\b\b21217280/45929032 bytes (46.2%)\b\b\b\b\b\b\b\b\b\b\b\b\b\b\b\b\b\b\b\b\b\b\b\b\b\b\b\b\b\b\b24215552/45929032 bytes (52.7%)\b\b\b\b\b\b\b\b\b\b\b\b\b\b\b\b\b\b\b\b\b\b\b\b\b\b\b\b\b\b\b27164672/45929032 bytes (59.1%)\b\b\b\b\b\b\b\b\b\b\b\b\b\b\b\b\b\b\b\b\b\b\b\b\b\b\b\b\b\b\b30408704/45929032 bytes (66.2%)\b\b\b\b\b\b\b\b\b\b\b\b\b\b\b\b\b\b\b\b\b\b\b\b\b\b\b\b\b\b\b33431552/45929032 bytes (72.8%)\b\b\b\b\b\b\b\b\b\b\b\b\b\b\b\b\b\b\b\b\b\b\b\b\b\b\b\b\b\b\b36626432/45929032 bytes (79.7%)\b\b\b\b\b\b\b\b\b\b\b\b\b\b\b\b\b\b\b\b\b\b\b\b\b\b\b\b\b\b\b39886848/45929032 bytes (86.8%)\b\b\b\b\b\b\b\b\b\b\b\b\b\b\b\b\b\b\b\b\b\b\b\b\b\b\b\b\b\b\b43122688/45929032 bytes (93.9%)\b\b\b\b\b\b\b\b\b\b\b\b\b\b\b\b\b\b\b\b\b\b\b\b\b\b\b\b\b\b\b45929032/45929032 bytes (100.0%)\n",
            "  Done\n",
            "File saved as /root/.imageio/ffmpeg/ffmpeg-linux64-v3.3.1.\n"
          ]
        }
      ]
    },
    {
      "cell_type": "markdown",
      "metadata": {
        "id": "BsGmIMxLVxyO"
      },
      "source": [
        "## Swap single within one image"
      ]
    },
    {
      "cell_type": "code",
      "metadata": {
        "id": "F0GyzUj2tO9G"
      },
      "source": [
        "!wget -P /content https://static01.nyt.com/images/2017/12/05/watching/the-crown-watching-slide-NWN3/the-crown-watching-slide-NWN3-jumbo-v3.jpg?quality=90&auto=webp\n",
        "!wget -P /content https://www.cyclinguk.org/sites/default/files/styles/crop_square/public/media-skyfish/298246/27_Lizzie_Deignan.jpg?itok=r7wM7B69&c=1bd5cf0369c2ef4491f9f01461ebbbbd"
      ],
      "execution_count": null,
      "outputs": []
    },
    {
      "cell_type": "code",
      "metadata": {
        "id": "F8dMLKvPNr7u"
      },
      "source": [
        "import subprocess\n",
        "TARGET = '/content/the-crown-watching-slide-NWN3-jumbo-v3.jpg?quality=90'\n",
        "SOURCE = '/content/27_Lizzie_Deignan.jpg?itok=r7wM7B69'\n",
        "subprocess.run(['cp', TARGET, '/content/target.jpg'])\n",
        "subprocess.run(['cp', SOURCE, '/content/source.jpg'])"
      ],
      "execution_count": null,
      "outputs": []
    },
    {
      "cell_type": "code",
      "metadata": {
        "id": "ZAusJdq-XR1w"
      },
      "source": [
        "!python test_wholeimage_swapsingle.py --isTrain false --use_mask --no_simswaplogo --name people --Arc_path arcface_model/arcface_checkpoint.tar --pic_a_path /content/source.jpg --pic_b_path /content/target.jpg --output_path /content/swapA.jpg\n",
        "!python test_wholeimage_swapsingle.py --isTrain false --use_mask --no_simswaplogo --name people --Arc_path arcface_model/arcface_checkpoint.tar --pic_a_path /content/target.jpg --pic_b_path /content/source.jpg --output_path /content/swapB.jpg"
      ],
      "execution_count": null,
      "outputs": []
    },
    {
      "cell_type": "code",
      "metadata": {
        "id": "eAKooKdE9Xp2"
      },
      "source": [
        "!rm /content/*.jpg"
      ],
      "execution_count": null,
      "outputs": []
    },
    {
      "cell_type": "markdown",
      "metadata": {
        "id": "Gcyog8hHvAPI"
      },
      "source": [
        "## GPEN\n",
        "Face enhancement from [https://github.com/woctezuma/SimSwap-colab](https://github.com/woctezuma/SimSwap-colab)\n",
        "\n",
        "It applies ***GAN Prior Embedded Network for Blind Face Restoration in the Wild***: [https://arxiv.org/abs/2105.06070](https://arxiv.org/abs/2105.06070)\n"
      ]
    },
    {
      "cell_type": "code",
      "metadata": {
        "id": "bkgNsejvZ4iG"
      },
      "source": [
        "!nvidia-smi"
      ],
      "execution_count": null,
      "outputs": []
    },
    {
      "cell_type": "code",
      "metadata": {
        "id": "ypoVQUc5vI-n"
      },
      "source": [
        "!wget -P /content/GPEN/weights https://public-vigen-video.oss-cn-shanghai.aliyuncs.com/robin/models/RetinaFace-R50.pth\n",
        "!wget -P /content/GPEN/weights https://public-vigen-video.oss-cn-shanghai.aliyuncs.com/robin/models/GPEN-BFR-512.pth"
      ],
      "execution_count": null,
      "outputs": []
    },
    {
      "cell_type": "code",
      "metadata": {
        "id": "N7GoXlnUzzxe"
      },
      "source": [
        "%cp /content/swapA.jpg /content/GPEN/examples/imgs/\n",
        "%cp /content/swapB.jpg /content/GPEN/examples/imgs/"
      ],
      "execution_count": null,
      "outputs": []
    },
    {
      "cell_type": "code",
      "metadata": {
        "id": "1aAul_jPwnkO"
      },
      "source": [
        "%cd /content/GPEN\n",
        "!python face_enhancement.py"
      ],
      "execution_count": null,
      "outputs": []
    },
    {
      "cell_type": "markdown",
      "metadata": {
        "id": "LI03Ha3dfq_m"
      },
      "source": [
        "## Swap single within one video"
      ]
    },
    {
      "cell_type": "code",
      "metadata": {
        "id": "EihcXjMGf2-j"
      },
      "source": [
        "import subprocess\n",
        "TARGET = './demo_file/multi_people_1080p.mp4'\n",
        "SOURCE = './demo_file/Iron_man.jpg'\n",
        "subprocess.run(['cp', TARGET, '/content/target.mp4'])\n",
        "subprocess.run(['cp', SOURCE, '/content/source.jpg'])\n",
        "!python test_video_swapsingle.py --isTrain false --use_mask --no_simswaplogo --name people --Arc_path arcface_model/arcface_checkpoint.tar --pic_a_path /content/source.jpg --video_path /content/target.mp4 --output_path /content/multi_test_swapsingle.mp4 --temp_path /content/temp_results"
      ],
      "execution_count": null,
      "outputs": []
    },
    {
      "cell_type": "code",
      "metadata": {
        "id": "-GfEcWjpnmrT"
      },
      "source": [
        "!rm -rf /content/temp_results/*.jpg"
      ],
      "execution_count": null,
      "outputs": []
    }
  ]
}