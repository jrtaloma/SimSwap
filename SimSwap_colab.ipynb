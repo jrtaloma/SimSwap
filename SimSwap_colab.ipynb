{
  "nbformat": 4,
  "nbformat_minor": 0,
  "metadata": {
    "colab": {
      "name": "Copy of SimSwap colab.ipynb",
      "provenance": [],
      "collapsed_sections": []
    },
    "kernelspec": {
      "name": "python3",
      "display_name": "Python 3"
    },
    "language_info": {
      "name": "python"
    },
    "gpuClass": "standard"
  },
  "cells": [
    {
      "cell_type": "markdown",
      "metadata": {
        "id": "7_gtFoV8BuRx"
      },
      "source": [
        "This is a simple example of SimSwap on swapping one single face within one image or one video. You can change the codes for inference based on other scripts for image or single face swapping.\n",
        "\n",
        "Code path: https://github.com/neuralchen/SimSwap\n",
        "\n",
        "Paper path: https://arxiv.org/pdf/2106.06340v1.pdf or https://dl.acm.org/doi/10.1145/3394171.3413630"
      ]
    },
    {
      "cell_type": "markdown",
      "metadata": {
        "id": "0Qzzx2UpDkqw"
      },
      "source": [
        "## Installation\n",
        "\n",
        "All file changes made by this notebook are temporary. \n",
        "You can try to mount your own google drive to store files if you want.\n"
      ]
    },
    {
      "cell_type": "code",
      "metadata": {
        "id": "VA_4CeWZCHLP"
      },
      "source": [
        "%cd /content\n",
        "!git clone https://github.com/jrtaloma/SimSwap\n",
        "!cd SimSwap && git pull"
      ],
      "execution_count": null,
      "outputs": []
    },
    {
      "cell_type": "code",
      "metadata": {
        "id": "2ICwDZeRvYUu"
      },
      "source": [
        "%cd /content\n",
        "!git clone https://github.com/yangxy/GPEN\n",
        "\n",
        "# remove the example input\n",
        "%rm -rf /content/GPEN/examples\n",
        "%mkdir -p /content/GPEN/examples/imgs\n",
        "%mkdir -p /content/GPEN/examples/grays\n",
        "\n",
        "%cd GPEN\n",
        "# set up the environment \n",
        "!pip install -r requirements.txt\n",
        "\n",
        "!pip install insightface==0.2.1 onnxruntime moviepy\n",
        "!pip install googledrivedownloader\n",
        "!pip install imageio==2.4.1"
      ],
      "execution_count": null,
      "outputs": []
    },
    {
      "cell_type": "code",
      "metadata": {
        "id": "gQ7ZoIbLFCye"
      },
      "source": [
        "import os\n",
        "os.chdir('/content/SimSwap')"
      ],
      "execution_count": null,
      "outputs": []
    },
    {
      "cell_type": "code",
      "metadata": {
        "id": "gLti1J0pEFjJ"
      },
      "source": [
        "from google_drive_downloader import GoogleDriveDownloader\n",
        "\n",
        "### it seems that google drive link may not be permenant, you can find this ID from our open url.\n",
        "# GoogleDriveDownloader.download_file_from_google_drive(file_id='1TLNdIufzwesDbyr_nVTR7Zrx9oRHLM_N',\n",
        "#                                     dest_path='./arcface_model/arcface_checkpoint.tar')\n",
        "# GoogleDriveDownloader.download_file_from_google_drive(file_id='1PXkRiBUYbu1xWpQyDEJvGKeqqUFthJcI',\n",
        "#                                     dest_path='./checkpoints.zip')\n",
        "\n",
        "!wget -P ./arcface_model https://github.com/neuralchen/SimSwap/releases/download/1.0/arcface_checkpoint.tar\n",
        "!wget https://github.com/neuralchen/SimSwap/releases/download/1.0/checkpoints.zip\n",
        "!unzip ./checkpoints.zip  -d ./checkpoints\n",
        "!wget -P ./parsing_model/checkpoint https://github.com/neuralchen/SimSwap/releases/download/1.0/79999_iter.pth"
      ],
      "execution_count": null,
      "outputs": []
    },
    {
      "cell_type": "code",
      "metadata": {
        "id": "aSRnK5V4HI-k"
      },
      "source": [
        "## You can upload filed manually\n",
        "# from google.colab import drive\n",
        "# drive.mount('/content/gdrive')\n",
        "\n",
        "### Now onedrive file can be downloaded in Colab directly!\n",
        "### If the link blow is not permanent, you can just download it from the \n",
        "### open url(can be found at [our repo]/doc/guidance/preparation.md) and copy the assigned download link here.\n",
        "### many thanks to woctezuma for this very useful help\n",
        "!wget --no-check-certificate \"https://sh23tw.dm.files.1drv.com/y4mmGiIkNVigkSwOKDcV3nwMJulRGhbtHdkheehR5TArc52UjudUYNXAEvKCii2O5LAmzGCGK6IfleocxuDeoKxDZkNzDRSt4ZUlEt8GlSOpCXAFEkBwaZimtWGDRbpIGpb_pz9Nq5jATBQpezBS6G_UtspWTkgrXHHxhviV2nWy8APPx134zOZrUIbkSF6xnsqzs3uZ_SEX_m9Rey0ykpx9w\" -O antelope.zip\n",
        "!unzip ./antelope.zip -d ./insightface_func/models/\n"
      ],
      "execution_count": null,
      "outputs": []
    },
    {
      "cell_type": "markdown",
      "metadata": {
        "id": "BsGmIMxLVxyO"
      },
      "source": [
        "# Inference"
      ]
    },
    {
      "cell_type": "code",
      "metadata": {
        "id": "PfSsND36EMvn"
      },
      "source": [
        "import cv2\n",
        "import torch\n",
        "import fractions\n",
        "import numpy as np\n",
        "from PIL import Image\n",
        "import torch.nn.functional as F\n",
        "from torchvision import transforms\n",
        "from models.models import create_model\n",
        "from options.test_options import TestOptions\n",
        "from insightface_func.face_detect_crop_multi import Face_detect_crop\n",
        "from util.videoswap import video_swap\n",
        "from util.add_watermark import watermark_image"
      ],
      "execution_count": null,
      "outputs": []
    },
    {
      "cell_type": "markdown",
      "metadata": {
        "id": "qPJkt2anF5Kj"
      },
      "source": [
        "## Swap single within one image"
      ]
    },
    {
      "cell_type": "code",
      "metadata": {
        "id": "F0GyzUj2tO9G"
      },
      "source": [
        "!wget -P /content https://static01.nyt.com/images/2017/12/05/watching/the-crown-watching-slide-NWN3/the-crown-watching-slide-NWN3-jumbo-v3.jpg?quality=90&auto=webp\n",
        "!wget -P /content https://www.cyclinguk.org/sites/default/files/styles/crop_square/public/media-skyfish/298246/27_Lizzie_Deignan.jpg?itok=r7wM7B69&c=1bd5cf0369c2ef4491f9f01461ebbbbd"
      ],
      "execution_count": null,
      "outputs": []
    },
    {
      "cell_type": "code",
      "metadata": {
        "id": "F8dMLKvPNr7u"
      },
      "source": [
        "import subprocess\n",
        "TARGET = '/content/the-crown-watching-slide-NWN3-jumbo-v3.jpg?quality=90'\n",
        "SOURCE = '/content/27_Lizzie_Deignan.jpg?itok=r7wM7B69'\n",
        "subprocess.run(['cp', TARGET, '/content/target.jpg'])\n",
        "subprocess.run(['cp', SOURCE, '/content/source.jpg'])"
      ],
      "execution_count": null,
      "outputs": []
    },
    {
      "cell_type": "code",
      "metadata": {
        "id": "ZAusJdq-XR1w"
      },
      "source": [
        "!python test_wholeimage_swapsingle.py --isTrain false --use_mask --no_simswaplogo --name people --Arc_path arcface_model/arcface_checkpoint.tar --pic_a_path /content/source.jpg --pic_b_path /content/target.jpg --output_path /content/swapA.jpg\n",
        "!python test_wholeimage_swapsingle.py --isTrain false --use_mask --no_simswaplogo --name people --Arc_path arcface_model/arcface_checkpoint.tar --pic_a_path /content/target.jpg --pic_b_path /content/source.jpg --output_path /content/swapB.jpg"
      ],
      "execution_count": null,
      "outputs": []
    },
    {
      "cell_type": "code",
      "metadata": {
        "id": "zVxWGo02VhBm"
      },
      "source": [
        "#!rm /content/*.jpg"
      ],
      "execution_count": 23,
      "outputs": []
    },
    {
      "cell_type": "markdown",
      "metadata": {
        "id": "Gcyog8hHvAPI"
      },
      "source": [
        "## GPEN\n",
        "Face enhancement from [https://github.com/woctezuma/SimSwap-colab](https://github.com/woctezuma/SimSwap-colab)\n",
        "\n",
        "It applies ***GAN Prior Embedded Network for Blind Face Restoration in the Wild***: [https://arxiv.org/abs/2105.06070](https://arxiv.org/abs/2105.06070)\n"
      ]
    },
    {
      "cell_type": "code",
      "metadata": {
        "id": "ypoVQUc5vI-n"
      },
      "source": [
        "# download pre-trained models\n",
        "!wget \"https://public-vigen-video.oss-cn-shanghai.aliyuncs.com/robin/models/RetinaFace-R50.pth?OSSAccessKeyId=LTAI4G6bfnyW4TA4wFUXTYBe&Expires=1961116085&Signature=GlUNW6%2B8FxvxWmE9jKIZYOOciKQ%3D\" -O /content/GPEN/weights/RetinaFace-R50.pth\n",
        "!wget \"https://public-vigen-video.oss-cn-shanghai.aliyuncs.com/robin/models/GPEN-BFR-512.pth?OSSAccessKeyId=LTAI4G6bfnyW4TA4wFUXTYBe&Expires=1961116208&Signature=hBgvVvKVSNGeXqT8glG%2Bd2t2OKc%3D\" -O /content/GPEN/weights/GPEN-BFR-512.pth\n",
        "!wget \"https://public-vigen-video.oss-cn-shanghai.aliyuncs.com/robin/models/GPEN-BFR-256.pth?OSSAccessKeyId=LTAI4G6bfnyW4TA4wFUXTYBe&Expires=1961116259&Signature=kMGJLSHqnvzzzqwtjUVBgngzX2s%3D\" -O /content/GPEN/weights/GPEN-BFR-256.pth\n",
        "!wget \"https://public-vigen-video.oss-cn-shanghai.aliyuncs.com/robin/models/realesrnet_x2.pth?OSSAccessKeyId=LTAI4G6bfnyW4TA4wFUXTYBe&Expires=1962694780&Signature=lI%2FolhA%2FyigiTRvoDIVbtMIyhjI%3D\" -O /content/GPEN/weights/realesrnet_x2.pth\n",
        "!wget \"https://public-vigen-video.oss-cn-shanghai.aliyuncs.com/robin/models/ParseNet-latest.pth?OSSAccessKeyId=LTAI4G6bfnyW4TA4wFUXTYBe&Expires=1961116134&Signature=bnMwU1JogmNbARto6G%2B7iaJQCHs%3D\" -O /content/GPEN/weights/ParseNet-latest.pth"
      ],
      "execution_count": null,
      "outputs": []
    },
    {
      "cell_type": "code",
      "metadata": {
        "id": "N7GoXlnUzzxe"
      },
      "source": [
        "# place images in GPEN/examples/imgs\n",
        "%cp /content/swapA.jpg /content/GPEN/examples/imgs/\n",
        "%cp /content/swapB.jpg /content/GPEN/examples/imgs/"
      ],
      "execution_count": 16,
      "outputs": []
    },
    {
      "cell_type": "code",
      "source": [
        "os.chdir('/content/GPEN')"
      ],
      "metadata": {
        "id": "z8axCZx0Vfkw"
      },
      "execution_count": 15,
      "outputs": []
    },
    {
      "cell_type": "code",
      "metadata": {
        "id": "m39ZCd9bll-W"
      },
      "source": [
        "# enhance faces\n",
        "import os\n",
        "import cv2\n",
        "import argparse\n",
        "import numpy as np\n",
        "import matplotlib.pyplot as plt\n",
        "\n",
        "import __init_paths\n",
        "from face_enhancement import FaceEnhancement\n",
        "\n",
        "\n",
        "class AttrDict(dict):\n",
        "  def __init__(self, *args, **kwargs):\n",
        "    super(AttrDict, self).__init__(*args, **kwargs)\n",
        "    self.__dict__ = self\n",
        "\n",
        "\n",
        "if __name__==\"__main__\":\n",
        "\n",
        "    #model = {'name':'GPEN-BFR-512', 'sr_model':'realesrnet', 'sr_scale': 2, 'size':512, 'channel_multiplier':2, 'narrow':1}\n",
        "    #model = {'name':'GPEN-BFR-256', 'sr_model':'realesrnet', 'size':256, 'channel_multiplier':1, 'narrow':0.5}\n",
        "\n",
        "    args = AttrDict({'model':'GPEN-BFR-512',\n",
        "            'task':'FaceEnhancement',\n",
        "            'key':None,\n",
        "            'in_size':512,\n",
        "            'out_size':None,\n",
        "            'channel_multiplier':2,\n",
        "            'narrow':1,\n",
        "            'alpha':1,\n",
        "            'use_sr':True,\n",
        "            'use_cuda':False,\n",
        "            'save_face':True,\n",
        "            'aligned':True,\n",
        "            'sr_model':'realesrnet',\n",
        "            'sr_scale':2,\n",
        "            'tile_size':0,\n",
        "            'indir':'examples/imgs',\n",
        "            'outdir':'results/outs-bfr',\n",
        "            'ext':'.jpg'}\n",
        "    )\n",
        "\n",
        "    os.makedirs(args.outdir, exist_ok=True)\n",
        "\n",
        "    faceenhancer = FaceEnhancement(args, in_size=args.in_size, model=args.model, use_sr=args.use_sr, device='cuda' if args.use_cuda else 'cpu')\n",
        "\n",
        "    file = os.path.join(args.indir, 'swapA.jpg')\n",
        "    filename = os.path.basename(file)\n",
        "    img = cv2.imread(file, cv2.IMREAD_COLOR) # BGR\n",
        "    #im = cv2.resize(im, (0,0), fx=2, fy=2) #optional\n",
        "\n",
        "    img_out, orig_faces, enhanced_faces = faceenhancer.process(img, aligned=False)\n",
        "    \n",
        "    img = cv2.resize(img, img_out.shape[:2][::-1])\n",
        "    cv2.imwrite(os.path.join(args.outdir, '.'.join(filename.split('.')[:-1])+'_COMP.jpg'), np.hstack((img, img_out)))\n",
        "    cv2.imwrite(os.path.join(args.outdir, '.'.join(filename.split('.')[:-1])+'_GPEN.jpg'), img_out)\n",
        "        \n",
        "    for m, (ef, of) in enumerate(zip(enhanced_faces, orig_faces)):\n",
        "        of = cv2.resize(of, ef.shape[:2])\n",
        "        cv2.imwrite(os.path.join(args.outdir, '.'.join(filename.split('.')[:-1])+'_face%02d'%m+'.jpg'), np.hstack((of, ef)))"
      ],
      "execution_count": null,
      "outputs": []
    },
    {
      "cell_type": "code",
      "metadata": {
        "id": "Ce4PDsXGVuPF"
      },
      "source": [
        "#!rm -rf /content/GPEN/results/outs-bfr/* /content/GPEN/examples/imgs/*"
      ],
      "execution_count": 22,
      "outputs": []
    },
    {
      "cell_type": "markdown",
      "metadata": {
        "id": "LI03Ha3dfq_m"
      },
      "source": [
        "## Swap single within one video"
      ]
    },
    {
      "cell_type": "code",
      "source": [
        "os.chdir('/content/SimSwap')"
      ],
      "metadata": {
        "id": "6xkaSE1maLs0"
      },
      "execution_count": 19,
      "outputs": []
    },
    {
      "cell_type": "code",
      "metadata": {
        "id": "EihcXjMGf2-j"
      },
      "source": [
        "import subprocess\n",
        "TARGET = '/content/SimSwap/demo_file/multi_people_1080p.mp4'\n",
        "SOURCE = '/content/SimSwap/demo_file/Iron_man.jpg'\n",
        "subprocess.run(['cp', TARGET, '/content/target.mp4'])\n",
        "subprocess.run(['cp', SOURCE, '/content/source.jpg'])\n",
        "!python test_video_swapsingle.py --isTrain false --use_mask --no_simswaplogo --name people --Arc_path arcface_model/arcface_checkpoint.tar --pic_a_path /content/source.jpg --video_path /content/target.mp4 --output_path /content/multi_test_swapsingle.mp4 --temp_path /content/temp_results"
      ],
      "execution_count": null,
      "outputs": []
    },
    {
      "cell_type": "code",
      "metadata": {
        "id": "-GfEcWjpnmrT"
      },
      "source": [
        "#!rm -rf /content/temp_results/*.jpg"
      ],
      "execution_count": 21,
      "outputs": []
    }
  ]
}